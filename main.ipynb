{
 "cells": [
  {
   "cell_type": "markdown",
   "metadata": {},
   "source": [
    "# Visualização da Informação\n",
    "## Escola de Matemática Aplicada - Fundação Getúlio Vargas\n",
    "## Mestrado em Modelagem Matemática\n",
    "\n",
    "Aluno: Gianlucca Devigili<br>\n",
    "Github do projeto: "
   ]
  },
  {
   "cell_type": "code",
   "execution_count": 42,
   "metadata": {},
   "outputs": [],
   "source": [
    "import pandas as pd\n",
    "import matplotlib.pyplot as plt\n",
    "import plotly\n",
    "import plotly.express as px\n",
    "\n",
    "df = pd.read_csv('world-happiness-report.csv')\n",
    "df2021 = pd.read_csv('world-happiness-report-2021.csv')"
   ]
  }
 ],
 "metadata": {
  "interpreter": {
   "hash": "ba02304b6ad28b230cb6bb8a342f61cfa670ad55fba7f96e73701903601d9731"
  },
  "kernelspec": {
   "display_name": "Python 3.8.8 64-bit (conda)",
   "language": "python",
   "name": "python3"
  },
  "language_info": {
   "codemirror_mode": {
    "name": "ipython",
    "version": 3
   },
   "file_extension": ".py",
   "mimetype": "text/x-python",
   "name": "python",
   "nbconvert_exporter": "python",
   "pygments_lexer": "ipython3",
   "version": "3.8.8"
  },
  "orig_nbformat": 4
 },
 "nbformat": 4,
 "nbformat_minor": 2
}
