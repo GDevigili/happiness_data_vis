{
 "cells": [
  {
   "cell_type": "markdown",
   "metadata": {},
   "source": [
    "# Visualização da Informação\n",
    "## Escola de Matemática Aplicada - Fundação Getúlio Vargas\n",
    "## Mestrado em Modelagem Matemática\n",
    "\n",
    "Aluno: Gianlucca Devigili<br>\n",
    "Github do projeto: "
   ]
  },
  {
   "cell_type": "code",
   "execution_count": 42,
   "metadata": {},
   "outputs": [],
   "source": [
    "import pandas as pd\n",
    "import matplotlib.pyplot as plt\n",
    "import plotly\n",
    "import plotly.express as px\n",
    "\n",
    "df = pd.read_csv('world-happiness-report.csv')\n",
    "df2021 = pd.read_csv('world-happiness-report-2021.csv')"
   ]
  },
  {
   "cell_type": "markdown",
   "metadata": {},
   "source": [
    "### Data Preparation"
   ]
  },
  {
   "cell_type": "code",
   "execution_count": 43,
   "metadata": {},
   "outputs": [],
   "source": [
    "# rename columns to make the dfs match\n",
    "df.rename(columns = {\n",
    "    'Life Ladder': 'Ladder score'\n",
    "}, inplace=True)\n",
    "\n",
    "df2021.rename(columns = {\n",
    "    'Healthy life expectancy': 'Healthy life expectancy at birth',\n",
    "    'Logged GDP per capita': 'Log GDP per capita'\n",
    "}, inplace=True)\n",
    "\n",
    "# drop columns that aren't in 2021 data\n",
    "df = df.drop(['Positive affect', 'Negative affect'], axis=1)\n",
    "\n",
    "# set year of 2021's df\n",
    "df2021['year'] = 2021\n",
    "\n",
    "# append 2021 data to df\n",
    "df = df.append(df2021[df.columns]);\n",
    "\n",
    "# defines new names for the columns\n",
    "df.columns = ['country', 'year', 'happiness_score', 'gdp_per_capita', 'social_support', 'life_expectancy', 'freedom_of_choiche', 'generosity', 'corruption_perception']"
   ]
  },
  {
   "cell_type": "markdown",
   "metadata": {},
   "source": [
    "### Exploratory Analysis"
   ]
  }
 ],
 "metadata": {
  "interpreter": {
   "hash": "ba02304b6ad28b230cb6bb8a342f61cfa670ad55fba7f96e73701903601d9731"
  },
  "kernelspec": {
   "display_name": "Python 3.8.8 64-bit (conda)",
   "language": "python",
   "name": "python3"
  },
  "language_info": {
   "codemirror_mode": {
    "name": "ipython",
    "version": 3
   },
   "file_extension": ".py",
   "mimetype": "text/x-python",
   "name": "python",
   "nbconvert_exporter": "python",
   "pygments_lexer": "ipython3",
   "version": "3.8.8"
  },
  "orig_nbformat": 4
 },
 "nbformat": 4,
 "nbformat_minor": 2
}
